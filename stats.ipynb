{
 "cells": [
  {
   "cell_type": "markdown",
   "id": "ee79ac12-d676-4373-9167-fa864b3df701",
   "metadata": {},
   "source": [
    "Q 1. what is statistics.\n",
    "\"\"\"1.statistics is the science of collecting,organizing and analyzing  the data.there are \n",
    "   basically are basically two types of stastistics which are such as\n",
    "   1. descriptive statistics\n",
    "   2. inferential statistics\n",
    "\"\"\"   "
   ]
  },
  {
   "cell_type": "markdown",
   "id": "19b1f53a-6404-46b0-aa59-d5d652ec20ea",
   "metadata": {},
   "source": [
    "Q 2. types of statistics\n",
    "   ans- there are two types of statistics\n",
    "   1. inferential stats\n",
    "   --> it is a techniques where we used the data that we have measure to form conclusion.\n",
    "   for example ,\n",
    "   2. descriptive stats\n",
    "   --> it consists of organizing and summarizing the data.\n",
    "for example\n",
    "classroom of maths student(20)\n",
    "84,65,67,87,45,85,34,54,24,54,45,67,87,98,56,63,39,97,99,62\n",
    "here descriptive stat is \"\"what is the averge marks of student of the class?\"\"\n",
    "and inferential stat is \"\"are the ages of students of this classroom similar to the age of the college?\"\""
   ]
  },
  {
   "cell_type": "markdown",
   "id": "18840ddc-7093-4e92-baac-0f975663c4e9",
   "metadata": {},
   "source": [
    "Q 3. the types of data is:-\n",
    "1.quantitative \n",
    "2.qualitative\n",
    "quantitative data is based on the numeric data and qualitative data is baesd upon categorical data.\n",
    "# qualitative data is also divide into two types\n",
    "1.Nominal data\n",
    "-->the nominal data is the data in which order does not matter.examples are\n",
    ".Eye color\n",
    ".Blood color\n",
    ".state\n",
    ".zipcode\n",
    " # 2.ordinal data\n",
    " this types of data is based on the rank.order is important in ordinal data.examples are\n",
    " .customer service feedback\n",
    " .ranks for students\n",
    " # quantitative data is also divided into twom parts\n",
    " 1.descrete data\n",
    " --> this types of data is completely whole number.\n",
    " examples are...\n",
    " (a) no of bank accounts\n",
    " (b) total number of state in india\n",
    " 2.continuous data\n",
    " --> examples of the continuous data is-\n",
    " .heights\n",
    " .weight\n",
    " .distance\n",
    " .temperature\n",
    " \n"
   ]
  },
  {
   "cell_type": "code",
   "execution_count": null,
   "id": "f65080ff-fcc0-4aa8-a152-4b340996b476",
   "metadata": {},
   "outputs": [],
   "source": [
    "Q 4.ans (i)-->qualitative data\n",
    "        (ii)-->qualitative data\n",
    "        (iii)-->quantitative data\n",
    "        (iv)-->quantitative data\n"
   ]
  },
  {
   "cell_type": "markdown",
   "id": "2d4a1ea4-e780-4538-af09-1e82b34f6493",
   "metadata": {},
   "source": [
    "Q 5.ans--> \"\"\" level of measurement refers to the type or scale of data being collected or analyzed.\n",
    "       There are four main levels of measurement, often referred to as scales of measurement,\n",
    "       each with its own characteristics and implications for how the data can be analyzed and interpreted.\n",
    "       \"\"\"\n",
    "   (1) Nominal Level:\n",
    "\n",
    "   This is the simplest level of measurement.\n",
    "   Data at this level are categorized or named.\n",
    "   Categories have no inherent order or hierarchy.\n",
    "   Examples include gender, marital status, colors, and types of animals.\n",
    "   Only operations like counting and frequency analysis are appropriate.\n",
    "   \n",
    "   (2) Ordinal Level:\n",
    "\n",
    "  Data at this level have categories that can be ranked or ordered.\n",
    "  The differences between categories are not uniform or meaningful.\n",
    "  Examples include education levels (e.g., high school, college, graduate), socioeconomic status, and customer      satisfaction ratings.\n",
    "  Rank-ordering and non-parametric statistical tests can be used.\n",
    "  \n",
    "  (3) Interval Level:\n",
    "\n",
    "  Data at this level have ordered categories with uniform intervals between them.\n",
    "  Zero point is arbitrary and does not indicate the absence of the measured attribute.\n",
    "  Examples include temperature on the Celsius scale and IQ scores.\n",
    "  Arithmetic operations like addition and subtraction are meaningful, but multiplication and division are not.\n",
    "  \n",
    "  (4) Ratio Level:\n",
    "\n",
    "  Data at this level have ordered categories with uniform intervals, and a true zero point that indicates the   absence of the measured attribute.\n",
    " Ratios between values are meaningful.\n",
    " Examples include height, weight, income, and age.\n",
    " All arithmetic operations are valid and meaningful."
   ]
  },
  {
   "cell_type": "markdown",
   "id": "15c61b68-3880-4342-aece-c14e4c2a8d1f",
   "metadata": {},
   "source": [
    " Q6.ans-->\"\"\"Understanding the level of measurement is crucial when analyzing data\n",
    " because it determines the types of statistical analyses and operations that are appropriate for the data. \n",
    " Using the wrong type of analysis for a particular level of measurement can lead to inaccurate conclusions \n",
    " and misleading results\"\"\"\n",
    "  exapmle :-Imagine a researcher is conducting a study on customer satisfaction in a restaurant. They collect data on various aspects of the dining experience and use a Likert scale (a common ordinal scale) to measure customer ratings for different aspects, such as food quality, service speed, and ambiance. The Likert scale ranges from 1 (Strongly Disagree) to 5 (Strongly Agree)."
   ]
  },
  {
   "cell_type": "code",
   "execution_count": null,
   "id": "3446ab7b-b6d3-4db1-83e3-0217378d1ec4",
   "metadata": {},
   "outputs": [],
   "source": []
  }
 ],
 "metadata": {
  "kernelspec": {
   "display_name": "Python 3 (ipykernel)",
   "language": "python",
   "name": "python3"
  },
  "language_info": {
   "codemirror_mode": {
    "name": "ipython",
    "version": 3
   },
   "file_extension": ".py",
   "mimetype": "text/x-python",
   "name": "python",
   "nbconvert_exporter": "python",
   "pygments_lexer": "ipython3",
   "version": "3.10.8"
  }
 },
 "nbformat": 4,
 "nbformat_minor": 5
}
